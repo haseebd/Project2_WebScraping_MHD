{
 "cells": [
  {
   "cell_type": "code",
   "execution_count": 318,
   "metadata": {
    "collapsed": true
   },
   "outputs": [],
   "source": [
    "import pandas as pd\n",
    "import glob, os"
   ]
  },
  {
   "cell_type": "code",
   "execution_count": 319,
   "metadata": {
    "collapsed": false
   },
   "outputs": [
    {
     "name": "stdout",
     "output_type": "stream",
     "text": [
      "fiverr_data1.csv          fiverr_data4.csv          fiverr_data7.csv\r\n",
      "fiverr_data10.csv         fiverr_data40.csv         fiverr_data70.csv\r\n",
      "fiverr_data11.csv         fiverr_data41.csv         fiverr_data71.csv\r\n",
      "fiverr_data12.csv         fiverr_data42.csv         fiverr_data72.csv\r\n",
      "fiverr_data13.csv         fiverr_data43.csv         fiverr_data73.csv\r\n",
      "fiverr_data14.csv         fiverr_data44.csv         fiverr_data74.csv\r\n",
      "fiverr_data15.csv         fiverr_data45.csv         fiverr_data75.csv\r\n",
      "fiverr_data16.csv         fiverr_data46.csv         fiverr_data76.csv\r\n",
      "fiverr_data17.csv         fiverr_data47.csv         fiverr_data77.csv\r\n",
      "fiverr_data18.csv         fiverr_data48.csv         fiverr_data78.csv\r\n",
      "fiverr_data19.csv         fiverr_data49.csv         fiverr_data79.csv\r\n",
      "fiverr_data2.csv          fiverr_data5.csv          fiverr_data8.csv\r\n",
      "fiverr_data20.csv         fiverr_data50.csv         fiverr_data80.csv\r\n",
      "fiverr_data21.csv         fiverr_data51.csv         fiverr_data81.csv\r\n",
      "fiverr_data22.csv         fiverr_data52.csv         fiverr_data82.csv\r\n",
      "fiverr_data23.csv         fiverr_data53.csv         fiverr_data83.csv\r\n",
      "fiverr_data24.csv         fiverr_data54.csv         fiverr_data9.csv\r\n",
      "fiverr_data25.csv         fiverr_data55.csv         fiverr_data_missing1.csv\r\n",
      "fiverr_data26.csv         fiverr_data56.csv         fiverr_data_missing10.csv\r\n",
      "fiverr_data27.csv         fiverr_data57.csv         fiverr_data_missing11.csv\r\n",
      "fiverr_data28.csv         fiverr_data58.csv         fiverr_data_missing12.csv\r\n",
      "fiverr_data29.csv         fiverr_data59.csv         fiverr_data_missing13.csv\r\n",
      "fiverr_data3.csv          fiverr_data6.csv          fiverr_data_missing14.csv\r\n",
      "fiverr_data30.csv         fiverr_data60.csv         fiverr_data_missing15.csv\r\n",
      "fiverr_data31.csv         fiverr_data61.csv         fiverr_data_missing16.csv\r\n",
      "fiverr_data32.csv         fiverr_data62.csv         fiverr_data_missing2.csv\r\n",
      "fiverr_data33.csv         fiverr_data63.csv         fiverr_data_missing3.csv\r\n",
      "fiverr_data34.csv         fiverr_data64.csv         fiverr_data_missing4.csv\r\n",
      "fiverr_data35.csv         fiverr_data65.csv         fiverr_data_missing5.csv\r\n",
      "fiverr_data36.csv         fiverr_data66.csv         fiverr_data_missing6.csv\r\n",
      "fiverr_data37.csv         fiverr_data67.csv         fiverr_data_missing7.csv\r\n",
      "fiverr_data38.csv         fiverr_data68.csv         fiverr_data_missing8.csv\r\n",
      "fiverr_data39.csv         fiverr_data69.csv         fiverr_data_missing9.csv\r\n"
     ]
    }
   ],
   "source": [
    "# CSV files so far...\n",
    "\n",
    "!ls ./fiverr_data/Files"
   ]
  },
  {
   "cell_type": "code",
   "execution_count": 320,
   "metadata": {
    "collapsed": false
   },
   "outputs": [],
   "source": [
    "# List of CSV files to iterate through\n",
    "\n",
    "# glob.glob(\"./fiverr_data/Files/*.csv\")"
   ]
  },
  {
   "cell_type": "code",
   "execution_count": 321,
   "metadata": {
    "collapsed": false
   },
   "outputs": [
    {
     "data": {
      "text/plain": [
       "16403"
      ]
     },
     "execution_count": 321,
     "metadata": {},
     "output_type": "execute_result"
    }
   ],
   "source": [
    "# Merging all the CSV files into a data frame\n",
    "\n",
    "all_data = pd.DataFrame()\n",
    "\n",
    "for f in glob.glob(\"./fiverr_data/Files/*.csv\"):\n",
    "    df = pd.read_csv(f)\n",
    "    all_data = all_data.append(df,ignore_index=True)\n",
    "\n",
    "len(all_data)"
   ]
  },
  {
   "cell_type": "code",
   "execution_count": 322,
   "metadata": {
    "collapsed": false
   },
   "outputs": [
    {
     "data": {
      "text/plain": [
       "16403"
      ]
     },
     "execution_count": 322,
     "metadata": {},
     "output_type": "execute_result"
    }
   ],
   "source": [
    "# URLs scraped so far \n",
    "\n",
    "urls_so_far = list(all_data.url)\n",
    "len(urls_so_far)"
   ]
  },
  {
   "cell_type": "code",
   "execution_count": 323,
   "metadata": {
    "collapsed": true
   },
   "outputs": [],
   "source": [
    "# Total URLs\n",
    "\n",
    "fiverr = pd.read_csv(\"./fiverr_urls/fiverr_urls/fiverr_urls_5pages.csv\")\n",
    "url_list = list(fiverr.url)"
   ]
  },
  {
   "cell_type": "code",
   "execution_count": 324,
   "metadata": {
    "collapsed": false
   },
   "outputs": [
    {
     "data": {
      "text/plain": [
       "73"
      ]
     },
     "execution_count": 324,
     "metadata": {},
     "output_type": "execute_result"
    }
   ],
   "source": [
    "# List of URLs skipped while crawling (crawled but not scraped)\n",
    "\n",
    "missing = list(set(url_list) - set(urls_so_far))\n",
    "len(missing)"
   ]
  },
  {
   "cell_type": "code",
   "execution_count": 325,
   "metadata": {
    "collapsed": false
   },
   "outputs": [
    {
     "data": {
      "text/plain": [
       "73"
      ]
     },
     "execution_count": 325,
     "metadata": {},
     "output_type": "execute_result"
    }
   ],
   "source": [
    "# Alternative way to get number of missing urls (crawled but not scraped)\n",
    "\n",
    "len([url for url in url_list if url not in urls_so_far])"
   ]
  },
  {
   "cell_type": "code",
   "execution_count": 326,
   "metadata": {
    "collapsed": false
   },
   "outputs": [
    {
     "name": "stdout",
     "output_type": "stream",
     "text": [
      "Total Crawled: 16482\n",
      "Total Scraped: 16403\n",
      "Missing: 73\n"
     ]
    }
   ],
   "source": [
    "# Progress so far...\n",
    "\n",
    "print \"Total Crawled:\", len(url_list)\n",
    "print \"Total Scraped:\", len(urls_so_far)\n",
    "print \"Missing:\", len(missing)"
   ]
  },
  {
   "cell_type": "code",
   "execution_count": 327,
   "metadata": {
    "collapsed": false
   },
   "outputs": [
    {
     "name": "stdout",
     "output_type": "stream",
     "text": [
      "https://www.fiverr.com/logosbyzd/design-professional-business-logo\n",
      "https://www.fiverr.com/creations99/do-45-real-active-referral-sign-ups?context=adv.cat_2.subcat_188&context_type=rating&source=gallery-listing&ref_ctx_id=98805770-5485-420d-a27b-af28bbe47078&filtered_price=&pckg_id=1&pos=41&funnel=c2ff1ede-b613-4bb8-872d-7d25ef2c47bb\n",
      "https://www.fiverr.com/jaydenunderwood/text-someone-pretending-to-be-government\n",
      "https://www.fiverr.com/bluelaguna/do-a-love-psychic-reading?context=adv.cat_7.subcat_78&context_type=rating&source=gallery-listing&ref_ctx_id=f276ef0c-7dc0-49e0-8919-498b9117748c&filtered_price=&pckg_id=1&pos=47&funnel=17563d73-772c-405c-b8d4-c87459fdcb67\n",
      "https://www.fiverr.com/bluelaguna/do-a-psychic-reading-of-4-questions-very-accurate\n",
      "https://www.fiverr.com/jfmusic/record-congas-bongos-djembe-or-percussion-for-your-song\n",
      "https://www.fiverr.com/alphagfx/find-available-domain-names-for-you\n",
      "https://www.fiverr.com/mattjgreco49/provide-real-rock-n-roll-vocals-for-your-song?context=adv.cat_12.subcat_158&context_type=rating&source=gallery-listing&ref_ctx_id=27df2296-6697-4dc1-8006-236640e5a0cd&filtered_price=&pckg_id=1&pos=30&funnel=d50f1949-a9d7-4d04-9183-a3ba652b7e14\n",
      "https://www.fiverr.com/mattjgreco49/provide-real-rock-n-roll-vocals-for-your-song\n",
      "https://www.fiverr.com/soldbywebsite/create-a-birthday-chronicle-for-anyone\n",
      "https://www.fiverr.com/cindy_pro/send-you-4x-customer-value-accelerator-course-by-dan-kennedy\n",
      "https://www.fiverr.com/bluelaguna/do-a-real-psychic-reading-quickly?context=adv.cat_7.subcat_78&context_type=rating&source=gallery-listing&ref_ctx_id=f276ef0c-7dc0-49e0-8919-498b9117748c&filtered_price=&pckg_id=1&pos=29&funnel=17563d73-772c-405c-b8d4-c87459fdcb67\n",
      "https://www.fiverr.com/yelpermark/promote-your-instagram-video-to-2500-real-viewers\n",
      "https://www.fiverr.com/alyzeh/make-your-presentation-professional-and-unique\n",
      "https://www.fiverr.com/lissa_promo/promote-youtube-video-with-facebook-google-plus-to-go-viral?context=adv.cat_2.subcat_67&context_type=rating&source=gallery-listing&ref_ctx_id=3ba122cb-2b09-47fb-a261-66a1a463f00c&filtered_price=&pckg_id=1&pos=29&funnel=fee699c6-770c-49e9-a72b-cbcb229c5461\n",
      "https://www.fiverr.com/tequi_juli/tell-you-everything-about-me-even-my-darkest-secrets\n",
      "https://www.fiverr.com/soldbywebsite/provide-a-deed-for-one-acre-of-land-on-the-moon\n",
      "https://www.fiverr.com/bluelaguna/do-a-real-psychic-reading-quickly\n",
      "https://www.fiverr.com/designran/create-erotica-cover-24-hours?context=adv.cat_3.subcat_51&context_type=rating&source=gallery-listing&ref_ctx_id=cddf7fa9-51d9-4efb-a647-e6f453534c2b&filtered_price=&pckg_id=1&pos=38&funnel=49a14a8d-e54f-47bc-bb7b-62d726b0c82d\n",
      "https://www.fiverr.com/vijay_saini/create-3d-models-in-3d-software\n",
      "https://www.fiverr.com/attaurrehman515/give-you-1-billion-chips-of-8-ball-pool?context=adv.cat_7.subcat_279&context_type=rating&source=gallery-listing&ref_ctx_id=b83bbf0e-18da-4d38-9477-6109741c3823&filtered_price=&pckg_id=1&pos=33&funnel=08cd981e-2cbd-405c-b14f-c7fde6f3c0ef\n",
      "https://www.fiverr.com/uklegals/consult-on-trademark-research-and-trademark-application\n",
      "https://www.fiverr.com/funnymate/digging-in-jungle-and-find-your-message?context=adv.cat_7.subcat_295&context_type=rating&source=gallery-listing&ref_ctx_id=4558ba87-16ce-4352-bacc-8be5a2931c79&filtered_price=&pckg_id=1&pos=6&funnel=3fe71b40-3712-40a0-ad46-f3ba20885597\n",
      "https://www.fiverr.com/funnymate/sing-happy-birthday-in-jungle-with-two-funny-boys?context=adv.cat_7.subcat_295&context_type=rating&source=gallery-listing&ref_ctx_id=4558ba87-16ce-4352-bacc-8be5a2931c79&filtered_price=&pckg_id=1&pos=20&funnel=3fe71b40-3712-40a0-ad46-f3ba20885597\n",
      "https://www.fiverr.com/medgeek1/do-your-maths-web-assignements\n",
      "https://www.fiverr.com/paean10/give-you-500-cartoon-sounds\n",
      "https://www.fiverr.com/bluelaguna/do-a-love-psychic-reading\n",
      "https://www.fiverr.com/designran/create-erotica-cover-24-hours\n",
      "https://www.fiverr.com/sajibhossainsa/give-you-200-app-download-for-human\n",
      "https://www.fiverr.com/praveen54/help-you-to-qualify-adwords-analytic-bing-ads\n",
      "https://www.fiverr.com/love_valentine/valentines-day-love-video-gift-present-anniversary-photo?context=adv.cat_7.subcat_321&context_type=rating&source=gallery-listing&ref_ctx_id=3298fae2-6401-47a9-a879-bd73599c1368&filtered_price=&pckg_id=1&pos=9&funnel=f1a74def-f2a8-49ba-b729-c414e2f15c8e\n",
      "https://www.fiverr.com/katseo/promote-your-website-banner-or-anything-to-7-million-facebook-users\n",
      "https://www.fiverr.com/gusstanthony/create-an-animated-caricature-cartoon-of-you\n",
      "https://www.fiverr.com/funnymate/climb-king-coconut-tree-and-find-your-message?context=adv.cat_7.subcat_318&context_type=rating&source=gallery-listing&ref_ctx_id=29147dfc-758d-4377-baac-7c013002e7ef&filtered_price=&pckg_id=1&pos=4&funnel=725556cf-6796-4ebe-a4b5-ea86f8038544\n",
      "https://www.fiverr.com/doctormcfarland/write-and-record-a-custom-jingle\n",
      "https://www.fiverr.com/strickl/do-professionally-instagram-marketing-campaign-for-grow-audience?context=adv.cat_2.subcat_67&context_type=rating&source=gallery-listing&ref_ctx_id=3ba122cb-2b09-47fb-a261-66a1a463f00c&filtered_price=&pckg_id=1&pos=44&funnel=fee699c6-770c-49e9-a72b-cbcb229c5461\n",
      "https://www.fiverr.com/design_cr8tive/design-a-high-profile-church-flyer\n",
      "https://www.fiverr.com/rashed413/do-test-android-app-for-you\n",
      "https://www.fiverr.com/designran/create-ebook-cover-24hours\n",
      "https://www.fiverr.com/sabaha_soha/write-content-review-comment-and-post-on-desire-websites-0980c948-351f-4dcb-87cb-4fd3339127bd\n",
      "https://www.fiverr.com/ruskleeproduct/design-and-or-animate-2d-works\n",
      "https://www.fiverr.com/medboualil/be-your-virtual-guide-in-morocco-contacts-photos-prices\n",
      "https://www.fiverr.com/royalsandhu/provide-you-online-reputation-management?context=adv.cat_2.subcat_200&context_type=rating&source=gallery-listing&ref_ctx_id=33b36788-24f0-4e79-913c-2dc0c350e91d&filtered_price=&pckg_id=1&pos=29&funnel=e63b06b9-cc65-4bc8-9213-f7814fd9fe57\n",
      "https://www.fiverr.com/jerede/build-4200-seo-signals-social-media-campaign\n",
      "https://www.fiverr.com/skrdesign21/design-business-card-letterhead-or-stationary-brand-identity\n",
      "https://www.fiverr.com/unemployhelp/provide-you-with-company-owners-legal-documents-written-by-a-lawyer\n",
      "https://www.fiverr.com/funnymate/drinking-king-coconut-and-find-your-message\n",
      "https://www.fiverr.com/pro_design180/design-kindle-or-ebook-cover\n",
      "https://www.fiverr.com/ritzdesigns/do-a-responsive-website-design\n",
      "https://www.fiverr.com/mueedali511/do-webassign-aleks-m-athworks\n",
      "https://www.fiverr.com/vinay862/write-analytics-exams-for-you\n",
      "https://www.fiverr.com/roodytunes/produce-a-tune-to-your-vision-and-sing-lyrics\n",
      "https://www.fiverr.com/yassinesoubai/give-10-review-rating-in-your-android-app\n",
      "https://www.fiverr.com/mianabdurrehman/build-a-modern-business-card-corporate-and-social\n",
      "https://www.fiverr.com/love_valentine/wedding-valentines-day-video-gift-anniversary\n",
      "https://www.fiverr.com/robin15/create-70000-gsa-backlinks?context=adv.cat_2.subcat_65&context_type=rating&source=gallery-listing&ref_ctx_id=d668677b-9f48-4a87-8f0d-2068d51adf37&filtered_price=&pckg_id=1&pos=16&funnel=8b9fede7-2fbb-48b6-983d-7ac9b876cc8a\n",
      "https://www.fiverr.com/joy_jmc/build-manually-4100-powerful-social-signals\n",
      "https://www.fiverr.com/umais786/add-celebrities-with-your-pic-for-prank\n",
      "https://www.fiverr.com/bluelaguna/do-a-psychic-theta-trance-reading-24-hrs\n",
      "https://www.fiverr.com/borzahyankey/sing-happy-birthday-for-your-birthday?context=adv.cat_7.subcat_321&context_type=rating&source=gallery-listing&ref_ctx_id=3298fae2-6401-47a9-a879-bd73599c1368&filtered_price=&pckg_id=1&pos=30&funnel=f1a74def-f2a8-49ba-b729-c414e2f15c8e\n",
      "https://www.fiverr.com/cindy_pro/send-you-digital-product-blueprint-by-eben-pagan\n",
      "https://www.fiverr.com/ali_acca/do-your-accounting-bookkeeping-perfectly\n",
      "https://www.fiverr.com/mueedali511/solve-calculus-and-algebra-problems-for-you-with-less-budget\n",
      "https://www.fiverr.com/jazbee/62-high-pr-blog-comment-backlinks-with-pr2-to-pr7\n",
      "https://www.fiverr.com/anshidesigner/do-novelty-dl-ssn-all-document-modification\n",
      "https://www.fiverr.com/shianaroach/give-advice-on-relationship-and-family-024fb29b-129b-4dd4-a881-c9c16bbe2b63\n",
      "https://www.fiverr.com/tsvetimusic/record-harp-and-vocals-for-your-album-or-project\n",
      "https://www.fiverr.com/funnymate/catch-a-fish-on-natural-water-stream-and-write-your-message-on-it?context=adv.cat_7.subcat_295&context_type=rating&source=gallery-listing&ref_ctx_id=4558ba87-16ce-4352-bacc-8be5a2931c79&filtered_price=&pckg_id=1&pos=17&funnel=3fe71b40-3712-40a0-ad46-f3ba20885597\n",
      "https://www.fiverr.com/kumarpartho/do-youtube-video-marketing\n",
      "https://www.fiverr.com/maimoonaiqbal/do-your-database-design-development-and-db-optimized-queries?context=adv.cat_10.subcat_87&context_type=rating&source=gallery-listing&ref_ctx_id=61a1680e-a5ff-40a5-89aa-63d51aa58f8e&filtered_price=&pckg_id=1&pos=24&funnel=c7aa3d16-2f9a-40b8-89a3-6178f6d43633\n",
      "https://www.fiverr.com/vandersaim/do-almost-anything-on-after-effects\n",
      "https://www.fiverr.com/redstealth/create-a-endless-moto-racer-game\n",
      "https://www.fiverr.com/xbasssuper/sell-my-unique-unreleased-edm-tracks\n"
     ]
    }
   ],
   "source": [
    "# Missing URLs\n",
    "\n",
    "for x in missing:\n",
    "    print x"
   ]
  },
  {
   "cell_type": "code",
   "execution_count": 328,
   "metadata": {
    "collapsed": false
   },
   "outputs": [
    {
     "data": {
      "text/plain": [
       "73"
      ]
     },
     "execution_count": 328,
     "metadata": {},
     "output_type": "execute_result"
    }
   ],
   "source": [
    "# Data frame of missing URLs\n",
    "\n",
    "missing_df = pd.DataFrame({\"url\": missing})\n",
    "len(missing_df)"
   ]
  },
  {
   "cell_type": "code",
   "execution_count": 329,
   "metadata": {
    "collapsed": false
   },
   "outputs": [],
   "source": [
    "# Missing URLs data frame to CSV for scrapy \n",
    "\n",
    "missing_df.to_csv('./fiverr_data/fiverr_data/missing_urls.csv', sep=',', encoding='utf-8', index = False)"
   ]
  },
  {
   "cell_type": "code",
   "execution_count": 330,
   "metadata": {
    "collapsed": true
   },
   "outputs": [],
   "source": [
    "# Writing data to CSV for EDA and Visualization\n",
    "\n",
    "all_data.to_csv('./all_data.csv', sep=',', encoding='utf-8', index = False)"
   ]
  }
 ],
 "metadata": {
  "kernelspec": {
   "display_name": "Python 2",
   "language": "python",
   "name": "python2"
  },
  "language_info": {
   "codemirror_mode": {
    "name": "ipython",
    "version": 2
   },
   "file_extension": ".py",
   "mimetype": "text/x-python",
   "name": "python",
   "nbconvert_exporter": "python",
   "pygments_lexer": "ipython2",
   "version": "2.7.13"
  }
 },
 "nbformat": 4,
 "nbformat_minor": 2
}
